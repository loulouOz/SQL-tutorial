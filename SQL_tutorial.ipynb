{
 "cells": [
  {
   "cell_type": "code",
   "execution_count": 1,
   "metadata": {},
   "outputs": [
    {
     "data": {
      "text/html": [
       "<style>.container { width:100% !important; }</style>"
      ],
      "text/plain": [
       "<IPython.core.display.HTML object>"
      ]
     },
     "metadata": {},
     "output_type": "display_data"
    }
   ],
   "source": [
    "import sqlite3\n",
    "import pandas as pd\n",
    "from pandas import DataFrame\n",
    "\n",
    "from IPython.core.display import display, HTML\n",
    "display(HTML(\"<style>.container { width:100% !important; }</style>\"))\n",
    "\n",
    "%matplotlib inline\n",
    "%config InlineBackend.figure_format='retina'\n",
    "\n",
    "pd.set_option('display.max_rows', None)\n",
    "pd.set_option('display.max_columns', None)\n",
    "pd.set_option('display.width', None)\n",
    "\n",
    "import warnings\n",
    "warnings.filterwarnings('ignore')\n",
    "\n",
    "from IPython.display import display_html\n",
    "from itertools import chain,cycle\n",
    "def display_side_by_side(*args,titles=cycle([''])):\n",
    "    html_str=''\n",
    "    for df,title in zip(args, chain(titles,cycle(['</br>'])) ):\n",
    "        html_str+='<th style=\"text-align:center\"><td style=\"vertical-align:top\">'\n",
    "        html_str+=f'<h2>{title}</h2>'\n",
    "        html_str+=df.to_html().replace('table','table style=\"display:inline\"')\n",
    "        html_str+='</td></th>'\n",
    "    display_html(html_str,raw=True)"
   ]
  },
  {
   "cell_type": "markdown",
   "metadata": {},
   "source": [
    "## SQL Tutorial and play:\n",
    "\n",
    "A friend asked me for a small SQL demonstration and decided to make it as a tutorial with multiple examples."
   ]
  },
  {
   "cell_type": "markdown",
   "metadata": {},
   "source": [
    "We will be using python package sqlite3 to query the SQL database.\n",
    "\n",
    "\n",
    "**IMPORTANT:** always remember there is a defined order of how to compose a query:\n",
    "\n",
    "- SELECT\n",
    "- FROM\n",
    "- JOIN\n",
    "- WHERE\n",
    "- GROUP BY\n",
    "- HAVING\n",
    "- ORDER BY"
   ]
  },
  {
   "cell_type": "markdown",
   "metadata": {},
   "source": [
    "## Connect to SQL database:"
   ]
  },
  {
   "cell_type": "code",
   "execution_count": 2,
   "metadata": {},
   "outputs": [],
   "source": [
    "conn = sqlite3.connect('Chinook_Sqlite.sqlite')  \n",
    "c = conn.cursor()"
   ]
  },
  {
   "cell_type": "markdown",
   "metadata": {},
   "source": [
    "## Check the tables that composed the database:"
   ]
  },
  {
   "cell_type": "code",
   "execution_count": 3,
   "metadata": {},
   "outputs": [
    {
     "data": {
      "text/plain": [
       "[('Album',),\n",
       " ('Artist',),\n",
       " ('Customer',),\n",
       " ('Employee',),\n",
       " ('Genre',),\n",
       " ('Invoice',),\n",
       " ('InvoiceLine',),\n",
       " ('MediaType',),\n",
       " ('Playlist',),\n",
       " ('PlaylistTrack',),\n",
       " ('Track',)]"
      ]
     },
     "execution_count": 3,
     "metadata": {},
     "output_type": "execute_result"
    }
   ],
   "source": [
    "d = c.execute(\"SELECT name FROM sqlite_master WHERE type = 'table'\").fetchall()\n",
    "d"
   ]
  },
  {
   "cell_type": "markdown",
   "metadata": {},
   "source": [
    "## Check the structure of a table:"
   ]
  },
  {
   "cell_type": "markdown",
   "metadata": {},
   "source": [
    "#### Let's check the first 3 tables, it will provide the column names and the column data type (integer, nvarchart/string, etc...):"
   ]
  },
  {
   "cell_type": "code",
   "execution_count": 4,
   "metadata": {},
   "outputs": [
    {
     "name": "stdout",
     "output_type": "stream",
     "text": [
      "(0, 'AlbumId', 'INTEGER', 1, None, 1)\n",
      "(1, 'Title', 'NVARCHAR(160)', 1, None, 0)\n",
      "(2, 'ArtistId', 'INTEGER', 1, None, 0)\n",
      " \n",
      "(0, 'ArtistId', 'INTEGER', 1, None, 1)\n",
      "(1, 'Name', 'NVARCHAR(120)', 0, None, 0)\n",
      " \n",
      "(0, 'CustomerId', 'INTEGER', 1, None, 1)\n",
      "(1, 'FirstName', 'NVARCHAR(40)', 1, None, 0)\n",
      "(2, 'LastName', 'NVARCHAR(20)', 1, None, 0)\n",
      "(3, 'Company', 'NVARCHAR(80)', 0, None, 0)\n",
      "(4, 'Address', 'NVARCHAR(70)', 0, None, 0)\n",
      "(5, 'City', 'NVARCHAR(40)', 0, None, 0)\n",
      "(6, 'State', 'NVARCHAR(40)', 0, None, 0)\n",
      "(7, 'Country', 'NVARCHAR(40)', 0, None, 0)\n",
      "(8, 'PostalCode', 'NVARCHAR(10)', 0, None, 0)\n",
      "(9, 'Phone', 'NVARCHAR(24)', 0, None, 0)\n",
      "(10, 'Fax', 'NVARCHAR(24)', 0, None, 0)\n",
      "(11, 'Email', 'NVARCHAR(60)', 1, None, 0)\n",
      "(12, 'SupportRepId', 'INTEGER', 0, None, 0)\n",
      " \n"
     ]
    }
   ],
   "source": [
    "for i in d[:3]:\n",
    "    for row in c.execute(\"PRAGMA table_info({})\".format(i[0])).fetchall():\n",
    "        print(row)\n",
    "    print(\" \")"
   ]
  },
  {
   "cell_type": "markdown",
   "metadata": {},
   "source": [
    "### Structure of one table:"
   ]
  },
  {
   "cell_type": "code",
   "execution_count": 5,
   "metadata": {},
   "outputs": [
    {
     "data": {
      "text/plain": [
       "[(0, 'AlbumId', 'INTEGER', 1, None, 1),\n",
       " (1, 'Title', 'NVARCHAR(160)', 1, None, 0),\n",
       " (2, 'ArtistId', 'INTEGER', 1, None, 0)]"
      ]
     },
     "execution_count": 5,
     "metadata": {},
     "output_type": "execute_result"
    }
   ],
   "source": [
    "c.execute(\"PRAGMA table_info('Album')\").fetchall()\n",
    "# c.execute('SELECT * FROM Album').description"
   ]
  },
  {
   "cell_type": "markdown",
   "metadata": {},
   "source": [
    "### Multiple ways to read a query into a dataframe, 2 of them below:"
   ]
  },
  {
   "cell_type": "code",
   "execution_count": 6,
   "metadata": {},
   "outputs": [
    {
     "data": {
      "text/html": [
       "<th style=\"text-align:center\"><td style=\"vertical-align:top\"><h2>Method1</h2><table style=\"display:inline\" border=\"1\" class=\"dataframe\">\n",
       "  <thead>\n",
       "    <tr style=\"text-align: right;\">\n",
       "      <th></th>\n",
       "      <th>GenreId</th>\n",
       "      <th>Name</th>\n",
       "    </tr>\n",
       "  </thead>\n",
       "  <tbody>\n",
       "    <tr>\n",
       "      <th>0</th>\n",
       "      <td>1</td>\n",
       "      <td>Rock</td>\n",
       "    </tr>\n",
       "    <tr>\n",
       "      <th>1</th>\n",
       "      <td>2</td>\n",
       "      <td>Jazz</td>\n",
       "    </tr>\n",
       "    <tr>\n",
       "      <th>2</th>\n",
       "      <td>3</td>\n",
       "      <td>Metal</td>\n",
       "    </tr>\n",
       "  </tbody>\n",
       "</table style=\"display:inline\"></td></th><th style=\"text-align:center\"><td style=\"vertical-align:top\"><h2>Method2</h2><table style=\"display:inline\" border=\"1\" class=\"dataframe\">\n",
       "  <thead>\n",
       "    <tr style=\"text-align: right;\">\n",
       "      <th></th>\n",
       "      <th>GenreId</th>\n",
       "      <th>Name</th>\n",
       "    </tr>\n",
       "  </thead>\n",
       "  <tbody>\n",
       "    <tr>\n",
       "      <th>0</th>\n",
       "      <td>1</td>\n",
       "      <td>Rock</td>\n",
       "    </tr>\n",
       "    <tr>\n",
       "      <th>1</th>\n",
       "      <td>2</td>\n",
       "      <td>Jazz</td>\n",
       "    </tr>\n",
       "    <tr>\n",
       "      <th>2</th>\n",
       "      <td>3</td>\n",
       "      <td>Metal</td>\n",
       "    </tr>\n",
       "  </tbody>\n",
       "</table style=\"display:inline\"></td></th>"
      ]
     },
     "metadata": {},
     "output_type": "display_data"
    }
   ],
   "source": [
    "## Method 1:\n",
    "df1 = pd.read_sql_query(\"SELECT * FROM Genre LIMIT 3\", conn)\n",
    "\n",
    "\n",
    "## Method 2:\n",
    "c.execute(\"SELECT * FROM Genre LIMIT 3\")    ## query\n",
    "names = [x[0] for x in c.description]       ## extract names of columns\n",
    "df2 = DataFrame(c.fetchall(),columns=names) ## create a pandas dataframe\n",
    "\n",
    "display_side_by_side(df1,df2, titles=['Method1','Method2'])"
   ]
  },
  {
   "cell_type": "markdown",
   "metadata": {},
   "source": [
    "## Fetch all the rows from a table and create a dataframe:"
   ]
  },
  {
   "cell_type": "code",
   "execution_count": 7,
   "metadata": {},
   "outputs": [
    {
     "name": "stdout",
     "output_type": "stream",
     "text": [
      "df1 - rows: 347 columns: 3\n",
      "df2 - rows: 275 columns: 2\n",
      "df3 - rows: 3503 columns: 9\n"
     ]
    },
    {
     "data": {
      "text/html": [
       "<th style=\"text-align:center\"><td style=\"vertical-align:top\"><h2>Album</h2><table style=\"display:inline\" border=\"1\" class=\"dataframe\">\n",
       "  <thead>\n",
       "    <tr style=\"text-align: right;\">\n",
       "      <th></th>\n",
       "      <th>AlbumId</th>\n",
       "      <th>Title</th>\n",
       "      <th>ArtistId</th>\n",
       "    </tr>\n",
       "  </thead>\n",
       "  <tbody>\n",
       "    <tr>\n",
       "      <th>0</th>\n",
       "      <td>1</td>\n",
       "      <td>For Those About To Rock We Salute You</td>\n",
       "      <td>1</td>\n",
       "    </tr>\n",
       "    <tr>\n",
       "      <th>1</th>\n",
       "      <td>2</td>\n",
       "      <td>Balls to the Wall</td>\n",
       "      <td>2</td>\n",
       "    </tr>\n",
       "    <tr>\n",
       "      <th>2</th>\n",
       "      <td>3</td>\n",
       "      <td>Restless and Wild</td>\n",
       "      <td>2</td>\n",
       "    </tr>\n",
       "    <tr>\n",
       "      <th>3</th>\n",
       "      <td>4</td>\n",
       "      <td>Let There Be Rock</td>\n",
       "      <td>1</td>\n",
       "    </tr>\n",
       "    <tr>\n",
       "      <th>4</th>\n",
       "      <td>5</td>\n",
       "      <td>Big Ones</td>\n",
       "      <td>3</td>\n",
       "    </tr>\n",
       "  </tbody>\n",
       "</table style=\"display:inline\"></td></th><th style=\"text-align:center\"><td style=\"vertical-align:top\"><h2>Artist</h2><table style=\"display:inline\" border=\"1\" class=\"dataframe\">\n",
       "  <thead>\n",
       "    <tr style=\"text-align: right;\">\n",
       "      <th></th>\n",
       "      <th>ArtistId</th>\n",
       "      <th>Name</th>\n",
       "    </tr>\n",
       "  </thead>\n",
       "  <tbody>\n",
       "    <tr>\n",
       "      <th>0</th>\n",
       "      <td>1</td>\n",
       "      <td>AC/DC</td>\n",
       "    </tr>\n",
       "    <tr>\n",
       "      <th>1</th>\n",
       "      <td>2</td>\n",
       "      <td>Accept</td>\n",
       "    </tr>\n",
       "    <tr>\n",
       "      <th>2</th>\n",
       "      <td>3</td>\n",
       "      <td>Aerosmith</td>\n",
       "    </tr>\n",
       "    <tr>\n",
       "      <th>3</th>\n",
       "      <td>4</td>\n",
       "      <td>Alanis Morissette</td>\n",
       "    </tr>\n",
       "    <tr>\n",
       "      <th>4</th>\n",
       "      <td>5</td>\n",
       "      <td>Alice In Chains</td>\n",
       "    </tr>\n",
       "  </tbody>\n",
       "</table style=\"display:inline\"></td></th><th style=\"text-align:center\"><td style=\"vertical-align:top\"><h2>Track</h2><table style=\"display:inline\" border=\"1\" class=\"dataframe\">\n",
       "  <thead>\n",
       "    <tr style=\"text-align: right;\">\n",
       "      <th></th>\n",
       "      <th>TrackId</th>\n",
       "      <th>Name</th>\n",
       "      <th>AlbumId</th>\n",
       "      <th>MediaTypeId</th>\n",
       "      <th>GenreId</th>\n",
       "      <th>Composer</th>\n",
       "      <th>Milliseconds</th>\n",
       "      <th>Bytes</th>\n",
       "      <th>UnitPrice</th>\n",
       "    </tr>\n",
       "  </thead>\n",
       "  <tbody>\n",
       "    <tr>\n",
       "      <th>0</th>\n",
       "      <td>1</td>\n",
       "      <td>For Those About To Rock (We Salute You)</td>\n",
       "      <td>1</td>\n",
       "      <td>1</td>\n",
       "      <td>1</td>\n",
       "      <td>Angus Young, Malcolm Young, Brian Johnson</td>\n",
       "      <td>343719</td>\n",
       "      <td>11170334</td>\n",
       "      <td>0.99</td>\n",
       "    </tr>\n",
       "    <tr>\n",
       "      <th>1</th>\n",
       "      <td>2</td>\n",
       "      <td>Balls to the Wall</td>\n",
       "      <td>2</td>\n",
       "      <td>2</td>\n",
       "      <td>1</td>\n",
       "      <td>None</td>\n",
       "      <td>342562</td>\n",
       "      <td>5510424</td>\n",
       "      <td>0.99</td>\n",
       "    </tr>\n",
       "    <tr>\n",
       "      <th>2</th>\n",
       "      <td>3</td>\n",
       "      <td>Fast As a Shark</td>\n",
       "      <td>3</td>\n",
       "      <td>2</td>\n",
       "      <td>1</td>\n",
       "      <td>F. Baltes, S. Kaufman, U. Dirkscneider &amp; W. Hoffman</td>\n",
       "      <td>230619</td>\n",
       "      <td>3990994</td>\n",
       "      <td>0.99</td>\n",
       "    </tr>\n",
       "    <tr>\n",
       "      <th>3</th>\n",
       "      <td>4</td>\n",
       "      <td>Restless and Wild</td>\n",
       "      <td>3</td>\n",
       "      <td>2</td>\n",
       "      <td>1</td>\n",
       "      <td>F. Baltes, R.A. Smith-Diesel, S. Kaufman, U. Dirkscneider &amp; W. Hoffman</td>\n",
       "      <td>252051</td>\n",
       "      <td>4331779</td>\n",
       "      <td>0.99</td>\n",
       "    </tr>\n",
       "    <tr>\n",
       "      <th>4</th>\n",
       "      <td>5</td>\n",
       "      <td>Princess of the Dawn</td>\n",
       "      <td>3</td>\n",
       "      <td>2</td>\n",
       "      <td>1</td>\n",
       "      <td>Deaffy &amp; R.A. Smith-Diesel</td>\n",
       "      <td>375418</td>\n",
       "      <td>6290521</td>\n",
       "      <td>0.99</td>\n",
       "    </tr>\n",
       "  </tbody>\n",
       "</table style=\"display:inline\"></td></th>"
      ]
     },
     "metadata": {},
     "output_type": "display_data"
    }
   ],
   "source": [
    "df1 = pd.read_sql_query(\"SELECT * FROM 'Album'\",conn)\n",
    "print('df1 - rows:',df1.shape[0],'columns:',df1.shape[1])\n",
    "\n",
    "df2 = pd.read_sql_query(\"SELECT * FROM 'Artist'\",conn)\n",
    "print('df2 - rows:',df2.shape[0],'columns:',df2.shape[1])\n",
    "\n",
    "df3 = pd.read_sql_query(\"SELECT * FROM 'Track'\",conn)\n",
    "print('df3 - rows:',df3.shape[0],'columns:',df3.shape[1])\n",
    "\n",
    "display_side_by_side(df1.head(),df2.head(),df3.head(), titles=['Album','Artist','Track'])"
   ]
  },
  {
   "cell_type": "markdown",
   "metadata": {},
   "source": [
    "### From the table 'Album', for ArtistId '1', show me the the distinct albums name:"
   ]
  },
  {
   "cell_type": "code",
   "execution_count": 8,
   "metadata": {},
   "outputs": [
    {
     "data": {
      "text/plain": [
       "[('For Those About To Rock We Salute You',), ('Let There Be Rock',)]"
      ]
     },
     "execution_count": 8,
     "metadata": {},
     "output_type": "execute_result"
    }
   ],
   "source": [
    "## note: for this df, it doesn't matter to put DISTINCT or not are they are already unique values...but it is good to know it.\n",
    "c.execute(\"SELECT DISTINCT title FROM Album WHERE ArtistId = '1'\").fetchall()"
   ]
  },
  {
   "cell_type": "code",
   "execution_count": 9,
   "metadata": {},
   "outputs": [
    {
     "name": "stdout",
     "output_type": "stream",
     "text": [
      "Fetch one element for one artist: \n",
      "\n",
      "       ('For Those About To Rock We Salute You',)\n",
      " \n",
      "Fetch all elements for two artist:\n",
      "\n",
      "       [('For Those About To Rock We Salute You',), ('Let There Be Rock',), ('Balls to the Wall',), ('Restless and Wild',)]\n"
     ]
    }
   ],
   "source": [
    "info = \"1\",\n",
    "print('Fetch one element for one artist: \\n\\n       {}'.format(c.execute(\"SELECT title from Album WHERE ArtistId == ?\", info).fetchone()))\n",
    "\n",
    "print(' ')\n",
    "\n",
    "info = (\"1\",\"2\")\n",
    "print('Fetch all elements for two artist:\\n\\n       {}'.format(c.execute(\"SELECT title from Album WHERE ArtistId IN (?,?)\", info).fetchall()))\n",
    "\n",
    "# print(' ')\n",
    "# info = (\"1\",\"2\")\n",
    "# print('Fetch all elements for two artist written in a different way:\\n\\n', c.execute(\"SELECT title from Album WHERE ArtistId IN \\\n",
    "#                                                                                     (\" + \",\".join(\"?\"*len(info)) + \")\", info).fetchall())"
   ]
  },
  {
   "cell_type": "markdown",
   "metadata": {},
   "source": [
    "### Look at the query below for your first JOIN of dfs:\n",
    "\n",
    "We want to merge 3 dfs 'Artist', 'Album', 'Track' together and keep:\n",
    "- the name of the Artist from the 'Artist' table\n",
    "- the name of the album from the 'Album' table\n",
    "- the name of the track and the composer of the track from the 'Track' table\n",
    "\n",
    "Does the query below make sense:"
   ]
  },
  {
   "cell_type": "code",
   "execution_count": 10,
   "metadata": {},
   "outputs": [
    {
     "name": "stdout",
     "output_type": "stream",
     "text": [
      "df - rows: 3574 columns: 4\n"
     ]
    },
    {
     "data": {
      "text/html": [
       "<div>\n",
       "<style scoped>\n",
       "    .dataframe tbody tr th:only-of-type {\n",
       "        vertical-align: middle;\n",
       "    }\n",
       "\n",
       "    .dataframe tbody tr th {\n",
       "        vertical-align: top;\n",
       "    }\n",
       "\n",
       "    .dataframe thead th {\n",
       "        text-align: right;\n",
       "    }\n",
       "</style>\n",
       "<table border=\"1\" class=\"dataframe\">\n",
       "  <thead>\n",
       "    <tr style=\"text-align: right;\">\n",
       "      <th></th>\n",
       "      <th>ArtistName</th>\n",
       "      <th>AlbumName</th>\n",
       "      <th>TrackName</th>\n",
       "      <th>Composer</th>\n",
       "    </tr>\n",
       "  </thead>\n",
       "  <tbody>\n",
       "    <tr>\n",
       "      <th>0</th>\n",
       "      <td>AC/DC</td>\n",
       "      <td>For Those About To Rock We Salute You</td>\n",
       "      <td>For Those About To Rock (We Salute You)</td>\n",
       "      <td>Angus Young, Malcolm Young, Brian Johnson</td>\n",
       "    </tr>\n",
       "    <tr>\n",
       "      <th>1</th>\n",
       "      <td>AC/DC</td>\n",
       "      <td>For Those About To Rock We Salute You</td>\n",
       "      <td>Put The Finger On You</td>\n",
       "      <td>Angus Young, Malcolm Young, Brian Johnson</td>\n",
       "    </tr>\n",
       "    <tr>\n",
       "      <th>2</th>\n",
       "      <td>AC/DC</td>\n",
       "      <td>For Those About To Rock We Salute You</td>\n",
       "      <td>Let's Get It Up</td>\n",
       "      <td>Angus Young, Malcolm Young, Brian Johnson</td>\n",
       "    </tr>\n",
       "    <tr>\n",
       "      <th>3</th>\n",
       "      <td>AC/DC</td>\n",
       "      <td>For Those About To Rock We Salute You</td>\n",
       "      <td>Inject The Venom</td>\n",
       "      <td>Angus Young, Malcolm Young, Brian Johnson</td>\n",
       "    </tr>\n",
       "    <tr>\n",
       "      <th>4</th>\n",
       "      <td>AC/DC</td>\n",
       "      <td>For Those About To Rock We Salute You</td>\n",
       "      <td>Snowballed</td>\n",
       "      <td>Angus Young, Malcolm Young, Brian Johnson</td>\n",
       "    </tr>\n",
       "  </tbody>\n",
       "</table>\n",
       "</div>"
      ],
      "text/plain": [
       "  ArtistName                              AlbumName  \\\n",
       "0      AC/DC  For Those About To Rock We Salute You   \n",
       "1      AC/DC  For Those About To Rock We Salute You   \n",
       "2      AC/DC  For Those About To Rock We Salute You   \n",
       "3      AC/DC  For Those About To Rock We Salute You   \n",
       "4      AC/DC  For Those About To Rock We Salute You   \n",
       "\n",
       "                                 TrackName  \\\n",
       "0  For Those About To Rock (We Salute You)   \n",
       "1                    Put The Finger On You   \n",
       "2                          Let's Get It Up   \n",
       "3                         Inject The Venom   \n",
       "4                               Snowballed   \n",
       "\n",
       "                                    Composer  \n",
       "0  Angus Young, Malcolm Young, Brian Johnson  \n",
       "1  Angus Young, Malcolm Young, Brian Johnson  \n",
       "2  Angus Young, Malcolm Young, Brian Johnson  \n",
       "3  Angus Young, Malcolm Young, Brian Johnson  \n",
       "4  Angus Young, Malcolm Young, Brian Johnson  "
      ]
     },
     "execution_count": 10,
     "metadata": {},
     "output_type": "execute_result"
    }
   ],
   "source": [
    "sql='''SELECT A1.Name as ArtistName, A2.Title as AlbumName, A3.Name as TrackName, A3.Composer\n",
    "        FROM Artist AS A1\n",
    "        \n",
    "        LEFT JOIN \n",
    "        (\n",
    "            SELECT A2.ArtistId, A2.Title, A2.AlbumId\n",
    "            FROM Album AS A2\n",
    "        ) A2 \n",
    "        ON A1.ArtistId = A2.ArtistId\n",
    "        \n",
    "        LEFT JOIN \n",
    "        (\n",
    "            SELECT A3.AlbumId, A3.Name, A3.Composer\n",
    "            FROM Track AS A3\n",
    "        ) A3 \n",
    "        ON A2.AlbumId = A3.AlbumId\n",
    "        \n",
    "        '''\n",
    "df = pd.read_sql(sql, con=conn) \n",
    "print('df - rows:',df.shape[0],'columns:',df.shape[1])\n",
    "df.head()"
   ]
  },
  {
   "cell_type": "markdown",
   "metadata": {},
   "source": [
    "**REMEMBER:** There is a defined order on how to compose a query:\n",
    "\n",
    "- SELECT\n",
    "- FROM\n",
    "- JOIN\n",
    "- WHERE AND\n",
    "- GROUPB BY\n",
    "- HAVING\n",
    "- ORDER BY\n",
    "- LIMIT"
   ]
  },
  {
   "cell_type": "markdown",
   "metadata": {},
   "source": [
    "Check the query below, we want to GROUP BY to get:\n",
    "- the number of track \n",
    "- per album (group by)\n",
    "- for the artist \"AC/DC\"\n",
    "- by descending order on column TrackName (A3.Name) ASC|DESC\n",
    "- and we want to get only the first 5 rows. (here only 2 anyways...)"
   ]
  },
  {
   "cell_type": "code",
   "execution_count": 11,
   "metadata": {},
   "outputs": [
    {
     "name": "stdout",
     "output_type": "stream",
     "text": [
      "df - rows: 2 columns: 3\n"
     ]
    },
    {
     "data": {
      "text/html": [
       "<div>\n",
       "<style scoped>\n",
       "    .dataframe tbody tr th:only-of-type {\n",
       "        vertical-align: middle;\n",
       "    }\n",
       "\n",
       "    .dataframe tbody tr th {\n",
       "        vertical-align: top;\n",
       "    }\n",
       "\n",
       "    .dataframe thead th {\n",
       "        text-align: right;\n",
       "    }\n",
       "</style>\n",
       "<table border=\"1\" class=\"dataframe\">\n",
       "  <thead>\n",
       "    <tr style=\"text-align: right;\">\n",
       "      <th></th>\n",
       "      <th>ArtistName</th>\n",
       "      <th>Title</th>\n",
       "      <th>TrackName</th>\n",
       "    </tr>\n",
       "  </thead>\n",
       "  <tbody>\n",
       "    <tr>\n",
       "      <th>0</th>\n",
       "      <td>AC/DC</td>\n",
       "      <td>For Those About To Rock We Salute You</td>\n",
       "      <td>10</td>\n",
       "    </tr>\n",
       "    <tr>\n",
       "      <th>1</th>\n",
       "      <td>AC/DC</td>\n",
       "      <td>Let There Be Rock</td>\n",
       "      <td>8</td>\n",
       "    </tr>\n",
       "  </tbody>\n",
       "</table>\n",
       "</div>"
      ],
      "text/plain": [
       "  ArtistName                                  Title  TrackName\n",
       "0      AC/DC  For Those About To Rock We Salute You         10\n",
       "1      AC/DC                      Let There Be Rock          8"
      ]
     },
     "execution_count": 11,
     "metadata": {},
     "output_type": "execute_result"
    }
   ],
   "source": [
    "sql='''SELECT A1.Name as ArtistName, A2.Title, COUNT(A3.Name) as TrackName\n",
    "        FROM Artist AS A1\n",
    "        \n",
    "        LEFT JOIN \n",
    "        (\n",
    "            SELECT A2.ArtistId, A2.Title, A2.AlbumId\n",
    "            FROM Album AS A2\n",
    "        ) A2 \n",
    "        ON A1.ArtistId = A2.ArtistId\n",
    "        \n",
    "        LEFT JOIN \n",
    "        (\n",
    "            SELECT A3.AlbumId, A3.Name\n",
    "            FROM Track AS A3\n",
    "        ) A3 \n",
    "        ON A2.AlbumId = A3.AlbumId\n",
    "\n",
    "        WHERE A1.Name == \"AC/DC\"\n",
    "        \n",
    "        GROUP BY A1.Name, A2.Title\n",
    "        \n",
    "        HAVING COUNT(A3.Name) > 5\n",
    "        \n",
    "        ORDER BY A3.Name DESC\n",
    "        \n",
    "        LIMIT 5\n",
    "        \n",
    "        '''\n",
    "df = pd.read_sql(sql, con=conn) \n",
    "print('df - rows:',df.shape[0],'columns:',df.shape[1])\n",
    "df"
   ]
  },
  {
   "cell_type": "markdown",
   "metadata": {},
   "source": [
    "### Another example of query: (easier to read ;) )"
   ]
  },
  {
   "cell_type": "code",
   "execution_count": 12,
   "metadata": {},
   "outputs": [
    {
     "name": "stdout",
     "output_type": "stream",
     "text": [
      "df - rows: 1 columns: 4\n",
      "CPU times: user 6.92 ms, sys: 1.07 ms, total: 7.99 ms\n",
      "Wall time: 6.75 ms\n"
     ]
    },
    {
     "data": {
      "text/html": [
       "<div>\n",
       "<style scoped>\n",
       "    .dataframe tbody tr th:only-of-type {\n",
       "        vertical-align: middle;\n",
       "    }\n",
       "\n",
       "    .dataframe tbody tr th {\n",
       "        vertical-align: top;\n",
       "    }\n",
       "\n",
       "    .dataframe thead th {\n",
       "        text-align: right;\n",
       "    }\n",
       "</style>\n",
       "<table border=\"1\" class=\"dataframe\">\n",
       "  <thead>\n",
       "    <tr style=\"text-align: right;\">\n",
       "      <th></th>\n",
       "      <th>Name</th>\n",
       "      <th>Title</th>\n",
       "      <th>TrackName</th>\n",
       "      <th>Composer</th>\n",
       "    </tr>\n",
       "  </thead>\n",
       "  <tbody>\n",
       "    <tr>\n",
       "      <th>0</th>\n",
       "      <td>AC/DC</td>\n",
       "      <td>For Those About To Rock We Salute You</td>\n",
       "      <td>10</td>\n",
       "      <td>Angus Young, Malcolm Young, Brian Johnson</td>\n",
       "    </tr>\n",
       "  </tbody>\n",
       "</table>\n",
       "</div>"
      ],
      "text/plain": [
       "    Name                                  Title  TrackName  \\\n",
       "0  AC/DC  For Those About To Rock We Salute You         10   \n",
       "\n",
       "                                    Composer  \n",
       "0  Angus Young, Malcolm Young, Brian Johnson  "
      ]
     },
     "execution_count": 12,
     "metadata": {},
     "output_type": "execute_result"
    }
   ],
   "source": [
    "%%time\n",
    "\n",
    "sql='''SELECT A1.Name, A2.Title, COUNT(A3.Name) as TrackName, A3.Composer FROM Artist AS A1\n",
    "        \n",
    "        LEFT JOIN (SELECT A2.ArtistId, A2.Title, A2.AlbumId FROM Album AS A2) A2 ON A1.ArtistId = A2.ArtistId\n",
    "        \n",
    "        LEFT JOIN (SELECT A3.AlbumId, A3.Name, A3.Composer FROM Track AS A3) A3 ON A2.AlbumId = A3.AlbumId\n",
    "        \n",
    "        WHERE A2.Title != \"None\" AND A1.Name == 'AC/DC'\n",
    "        \n",
    "        GROUP BY A1.Name, A2.Title\n",
    "        \n",
    "        HAVING COUNT(A3.Name) > 8\n",
    "        \n",
    "        ORDER BY A1.Name DESC\n",
    "        \n",
    "        '''\n",
    "df = pd.read_sql(sql, con=conn) \n",
    "print('df - rows:',df.shape[0],'columns:',df.shape[1])\n",
    "df.head(50)"
   ]
  },
  {
   "cell_type": "markdown",
   "metadata": {},
   "source": [
    "### Try yourself some of these below, best to learn and assimilate!\n",
    "\n",
    "- SUM\n",
    "- COUNT\n",
    "- DISTINCT COUNT\n",
    "- Date time manipulation => in the table 'Invoice', column 'InvoiceDate' is datetime.\n",
    "- String formatting\n",
    "- Windows function\n",
    "- Subqueries\n",
    "- Understanding indexing\n",
    "- totals\n",
    "- MAX and MIN"
   ]
  },
  {
   "cell_type": "code",
   "execution_count": 13,
   "metadata": {},
   "outputs": [
    {
     "data": {
      "text/html": [
       "<th style=\"text-align:center\"><td style=\"vertical-align:top\"><h2>Count of Album per Artist</h2><table style=\"display:inline\" border=\"1\" class=\"dataframe\">\n",
       "  <thead>\n",
       "    <tr style=\"text-align: right;\">\n",
       "      <th></th>\n",
       "      <th>ArtistId</th>\n",
       "      <th>COUNT( DISTINCT Title)</th>\n",
       "    </tr>\n",
       "  </thead>\n",
       "  <tbody>\n",
       "    <tr>\n",
       "      <th>0</th>\n",
       "      <td>1</td>\n",
       "      <td>2</td>\n",
       "    </tr>\n",
       "    <tr>\n",
       "      <th>1</th>\n",
       "      <td>2</td>\n",
       "      <td>2</td>\n",
       "    </tr>\n",
       "    <tr>\n",
       "      <th>2</th>\n",
       "      <td>3</td>\n",
       "      <td>1</td>\n",
       "    </tr>\n",
       "    <tr>\n",
       "      <th>3</th>\n",
       "      <td>4</td>\n",
       "      <td>1</td>\n",
       "    </tr>\n",
       "    <tr>\n",
       "      <th>4</th>\n",
       "      <td>5</td>\n",
       "      <td>1</td>\n",
       "    </tr>\n",
       "  </tbody>\n",
       "</table style=\"display:inline\"></td></th><th style=\"text-align:center\"><td style=\"vertical-align:top\"><h2>Count of Album overall</h2><table style=\"display:inline\" border=\"1\" class=\"dataframe\">\n",
       "  <thead>\n",
       "    <tr style=\"text-align: right;\">\n",
       "      <th></th>\n",
       "      <th>COUNT (DISTINCT Title)</th>\n",
       "    </tr>\n",
       "  </thead>\n",
       "  <tbody>\n",
       "    <tr>\n",
       "      <th>0</th>\n",
       "      <td>347</td>\n",
       "    </tr>\n",
       "  </tbody>\n",
       "</table style=\"display:inline\"></td></th><th style=\"text-align:center\"><td style=\"vertical-align:top\"><h2>Sum of unit price per Genre</h2><table style=\"display:inline\" border=\"1\" class=\"dataframe\">\n",
       "  <thead>\n",
       "    <tr style=\"text-align: right;\">\n",
       "      <th></th>\n",
       "      <th>GenreId</th>\n",
       "      <th>SUM(UnitPrice)</th>\n",
       "    </tr>\n",
       "  </thead>\n",
       "  <tbody>\n",
       "    <tr>\n",
       "      <th>0</th>\n",
       "      <td>1</td>\n",
       "      <td>1284.03</td>\n",
       "    </tr>\n",
       "    <tr>\n",
       "      <th>1</th>\n",
       "      <td>4</td>\n",
       "      <td>328.68</td>\n",
       "    </tr>\n",
       "  </tbody>\n",
       "</table style=\"display:inline\"></td></th><th style=\"text-align:center\"><td style=\"vertical-align:top\"><h2>Extract year from Datetime</h2><table style=\"display:inline\" border=\"1\" class=\"dataframe\">\n",
       "  <thead>\n",
       "    <tr style=\"text-align: right;\">\n",
       "      <th></th>\n",
       "      <th>strftime(\"%Y\", date(InvoiceDate))</th>\n",
       "    </tr>\n",
       "  </thead>\n",
       "  <tbody>\n",
       "    <tr>\n",
       "      <th>0</th>\n",
       "      <td>2009</td>\n",
       "    </tr>\n",
       "    <tr>\n",
       "      <th>1</th>\n",
       "      <td>2009</td>\n",
       "    </tr>\n",
       "    <tr>\n",
       "      <th>2</th>\n",
       "      <td>2009</td>\n",
       "    </tr>\n",
       "    <tr>\n",
       "      <th>3</th>\n",
       "      <td>2009</td>\n",
       "    </tr>\n",
       "    <tr>\n",
       "      <th>4</th>\n",
       "      <td>2009</td>\n",
       "    </tr>\n",
       "  </tbody>\n",
       "</table style=\"display:inline\"></td></th>"
      ]
     },
     "metadata": {},
     "output_type": "display_data"
    }
   ],
   "source": [
    "sql = \"\"\"\n",
    "        SELECT ArtistId, COUNT( DISTINCT Title) \n",
    "        FROM ALBUM\n",
    "        GROUP BY ArtistId\n",
    "      \"\"\"\n",
    "df1 = pd.read_sql(sql, con=conn)\n",
    "\n",
    "\n",
    "sql = \"\"\"\n",
    "        SELECT COUNT (DISTINCT Title)\n",
    "        FROM ALBUM\n",
    "      \"\"\"\n",
    "df2 = pd.read_sql(sql, con=conn)\n",
    "\n",
    "\n",
    "sql = \"\"\"\n",
    "        SELECT GenreId, SUM(UnitPrice)\n",
    "        FROM Track\n",
    "        WHERE GenreId == 1 OR GenreId == '4'\n",
    "        GROUP BY GenreId\n",
    "      \"\"\"\n",
    "df3 = pd.read_sql(sql, con=conn)  \n",
    "\n",
    "\n",
    "sql = \"\"\"\n",
    "        SELECT strftime(\"%Y\", date(InvoiceDate))\n",
    "        FROM Invoice\n",
    "        GROUP BY InvoiceDate\n",
    "      \"\"\"\n",
    "df4 = pd.read_sql(sql, con=conn)  \n",
    "\n",
    "\n",
    "display_side_by_side(df1.head(),df2.head(),df3.head(),df4.head(), \n",
    "                     titles=['Count of Album per Artist','Count of Album overall',\n",
    "                             'Sum of unit price per Genre','Extract year from Datetime'])"
   ]
  },
  {
   "cell_type": "code",
   "execution_count": 14,
   "metadata": {},
   "outputs": [
    {
     "data": {
      "text/html": [
       "<th style=\"text-align:center\"><td style=\"vertical-align:top\"><h2>Artist w Max nbr of Albums</h2><table style=\"display:inline\" border=\"1\" class=\"dataframe\">\n",
       "  <thead>\n",
       "    <tr style=\"text-align: right;\">\n",
       "      <th></th>\n",
       "      <th>ArtistId</th>\n",
       "      <th>MAX(count)</th>\n",
       "    </tr>\n",
       "  </thead>\n",
       "  <tbody>\n",
       "    <tr>\n",
       "      <th>0</th>\n",
       "      <td>90</td>\n",
       "      <td>21</td>\n",
       "    </tr>\n",
       "  </tbody>\n",
       "</table style=\"display:inline\"></td></th><th style=\"text-align:center\"><td style=\"vertical-align:top\"><h2>Artists w Max nbr of Albums (display 3)</h2><table style=\"display:inline\" border=\"1\" class=\"dataframe\">\n",
       "  <thead>\n",
       "    <tr style=\"text-align: right;\">\n",
       "      <th></th>\n",
       "      <th>ArtistId</th>\n",
       "      <th>count</th>\n",
       "    </tr>\n",
       "  </thead>\n",
       "  <tbody>\n",
       "    <tr>\n",
       "      <th>0</th>\n",
       "      <td>90</td>\n",
       "      <td>21</td>\n",
       "    </tr>\n",
       "    <tr>\n",
       "      <th>1</th>\n",
       "      <td>22</td>\n",
       "      <td>14</td>\n",
       "    </tr>\n",
       "    <tr>\n",
       "      <th>2</th>\n",
       "      <td>58</td>\n",
       "      <td>11</td>\n",
       "    </tr>\n",
       "  </tbody>\n",
       "</table style=\"display:inline\"></td></th><th style=\"text-align:center\"><td style=\"vertical-align:top\"><h2>Artist w Min nbr of Albums</h2><table style=\"display:inline\" border=\"1\" class=\"dataframe\">\n",
       "  <thead>\n",
       "    <tr style=\"text-align: right;\">\n",
       "      <th></th>\n",
       "      <th>ArtistId</th>\n",
       "      <th>MIN(count)</th>\n",
       "    </tr>\n",
       "  </thead>\n",
       "  <tbody>\n",
       "    <tr>\n",
       "      <th>0</th>\n",
       "      <td>3</td>\n",
       "      <td>1</td>\n",
       "    </tr>\n",
       "  </tbody>\n",
       "</table style=\"display:inline\"></td></th><th style=\"text-align:center\"><td style=\"vertical-align:top\"><h2>Artists w Min nbr of Albums (display 3)</h2><table style=\"display:inline\" border=\"1\" class=\"dataframe\">\n",
       "  <thead>\n",
       "    <tr style=\"text-align: right;\">\n",
       "      <th></th>\n",
       "      <th>ArtistId</th>\n",
       "      <th>count</th>\n",
       "    </tr>\n",
       "  </thead>\n",
       "  <tbody>\n",
       "    <tr>\n",
       "      <th>0</th>\n",
       "      <td>3</td>\n",
       "      <td>1</td>\n",
       "    </tr>\n",
       "    <tr>\n",
       "      <th>1</th>\n",
       "      <td>4</td>\n",
       "      <td>1</td>\n",
       "    </tr>\n",
       "    <tr>\n",
       "      <th>2</th>\n",
       "      <td>5</td>\n",
       "      <td>1</td>\n",
       "    </tr>\n",
       "  </tbody>\n",
       "</table style=\"display:inline\"></td></th>"
      ]
     },
     "metadata": {},
     "output_type": "display_data"
    }
   ],
   "source": [
    "sql = \"\"\"\n",
    "        SELECT ArtistId, MAX(count)\n",
    "        FROM \n",
    "            (SELECT ArtistId, COUNT (DISTINCT Title) AS count\n",
    "            FROM Album\n",
    "            GROUP BY ArtistId)\n",
    "      \"\"\"\n",
    "df1 = pd.read_sql(sql, con=conn)\n",
    "\n",
    "sql = \"\"\"\n",
    "        SELECT ArtistId, COUNT (DISTINCT Title) AS count\n",
    "        FROM Album\n",
    "        GROUP BY ArtistId\n",
    "        ORDER BY count DESC\n",
    "        LIMIT 3\n",
    "      \"\"\"\n",
    "df2 = pd.read_sql(sql, con=conn)\n",
    "\n",
    "sql = \"\"\"\n",
    "        SELECT ArtistId, MIN(count)\n",
    "        FROM \n",
    "            (SELECT ArtistId, COUNT (DISTINCT Title) AS count\n",
    "            FROM Album\n",
    "            GROUP BY ArtistId)\n",
    "      \"\"\"\n",
    "df3 = pd.read_sql(sql, con=conn)\n",
    "\n",
    "sql = \"\"\"\n",
    "        SELECT ArtistId, COUNT (DISTINCT Title) AS count\n",
    "        FROM Album\n",
    "        GROUP BY ArtistId\n",
    "        ORDER BY count ASC\n",
    "        LIMIT 3\n",
    "      \"\"\"\n",
    "df4 = pd.read_sql(sql, con=conn)\n",
    "\n",
    "display_side_by_side(df1.head(),df2.head(), df3.head(), df4.head(),\n",
    "                     titles=['Artist w Max nbr of Albums',\"Artists w Max nbr of Albums (display 3)\",\n",
    "                             'Artist w Min nbr of Albums',\"Artists w Min nbr of Albums (display 3)\"])"
   ]
  },
  {
   "cell_type": "markdown",
   "metadata": {},
   "source": [
    "### Next, we will create a database, define data types and go into more advanced and complex queries. Hope SQL makes more sense now."
   ]
  }
 ],
 "metadata": {
  "kernelspec": {
   "display_name": "Python 3",
   "language": "python",
   "name": "python3"
  },
  "language_info": {
   "codemirror_mode": {
    "name": "ipython",
    "version": 3
   },
   "file_extension": ".py",
   "mimetype": "text/x-python",
   "name": "python",
   "nbconvert_exporter": "python",
   "pygments_lexer": "ipython3",
   "version": "3.9.4"
  }
 },
 "nbformat": 4,
 "nbformat_minor": 4
}
